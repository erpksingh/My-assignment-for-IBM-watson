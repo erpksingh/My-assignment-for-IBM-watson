{
  "nbformat": 4,
  "nbformat_minor": 0,
  "metadata": {
    "colab": {
      "name": "Untitled11.ipynb",
      "provenance": [],
      "collapsed_sections": []
    },
    "kernelspec": {
      "name": "python3",
      "display_name": "Python 3"
    },
    "language_info": {
      "name": "python"
    }
  },
  "cells": [
    {
      "cell_type": "code",
      "execution_count": null,
      "metadata": {
        "id": "E8vLYLHwB4kf"
      },
      "outputs": [],
      "source": [
        "#My Jupyter Notebook on IBM Watson Studio\n",
        "#My name is Praveen Kumar singh\n",
        "#Data Scientist\n",
        "\n",
        "#I am interested in Data Science because I would love to contribute towards affordable and quality healthcare in the future\n",
        "#The below should print ‘Hello World’  \n",
        "\n",
        "\n",
        "## Please note that I am unable to access the Free IBM Watson account"
      ]
    },
    {
      "cell_type": "code",
      "source": [
        "print(\"Hello World!\")"
      ],
      "metadata": {
        "colab": {
          "base_uri": "https://localhost:8080/"
        },
        "id": "2GF6AGkFB9ak",
        "outputId": "2533364f-b1e4-4029-b014-eb3b3f9a4bac"
      },
      "execution_count": 1,
      "outputs": [
        {
          "output_type": "stream",
          "name": "stdout",
          "text": [
            "Hello World!\n"
          ]
        }
      ]
    }
  ]
}